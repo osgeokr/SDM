{
 "cells": [
  {
   "cell_type": "markdown",
   "id": "arranged-participant",
   "metadata": {},
   "source": [
    "# Python 종 분포 모델링(SDM: Species Distribution Modeling)"
   ]
  },
  {
   "cell_type": "markdown",
   "id": "delayed-blues",
   "metadata": {},
   "source": [
    "## 섹션 1 | 설정 (Set up)"
   ]
  },
  {
   "cell_type": "code",
   "execution_count": null,
   "id": "soviet-hypothetical",
   "metadata": {},
   "outputs": [],
   "source": [
    "import os\n",
    "\n",
    "os.getcwd() # 현재 작업 디렉토리"
   ]
  },
  {
   "cell_type": "code",
   "execution_count": null,
   "id": "limiting-arkansas",
   "metadata": {},
   "outputs": [],
   "source": [
    "os.chdir('D:\\\\GEODATA') # 작업 디렉토리 변경\n",
    "os.getcwd() # 현재 작업 디렉토리"
   ]
  },
  {
   "cell_type": "code",
   "execution_count": null,
   "id": "contained-investing",
   "metadata": {},
   "outputs": [],
   "source": [
    "os.mkdir(\"INPUT\") # 작업 디렉토리에 'INPUT(입력)' 폴더 생성\n",
    "os.mkdir(\"OUTPUT\") # 작업 디렉토리에 'OUTPUT(출력)' 폴더 생성"
   ]
  },
  {
   "cell_type": "code",
   "execution_count": null,
   "id": "emotional-argentina",
   "metadata": {},
   "outputs": [],
   "source": [
    "import geopandas as gpd # GeoPandas(지오판다스)\n",
    "import shutil # shutil(shell utility, 쉘 유틸리티)\n",
    "import glob # glob(글로브)"
   ]
  },
  {
   "cell_type": "markdown",
   "id": "0a8e84c5",
   "metadata": {},
   "source": [
    "pip install --upgrade pip\n",
    "pip install wheel\n",
    "pip install pipwin\n",
    "pipwin refresh"
   ]
  },
  {
   "cell_type": "markdown",
   "id": "pretty-basin",
   "metadata": {},
   "source": [
    "pipwin install numpy\n",
    "pipwin install pandas\n",
    "pipwin install shapely\n",
    "pipwin install gdal\n",
    "pipwin install fiona\n",
    "pipwin install pyproj\n",
    "pipwin install six\n",
    "pipwin install rtree\n",
    "pipwin install geopandas\n",
    "pipwin install rasterio"
   ]
  },
  {
   "cell_type": "markdown",
   "id": "laughing-premiere",
   "metadata": {},
   "source": [
    "pip install matplotlib\n",
    "pip install xgboost\n",
    "pip install lightgbm\n",
    "pip install pyimpute"
   ]
  },
  {
   "cell_type": "code",
   "execution_count": null,
   "id": "attended-contamination",
   "metadata": {},
   "outputs": [],
   "source": [
    "# JTREE_TRAIN_VEC.csv를 'INPUT/' 폴더로 이동\n",
    "for f in sorted(glob.glob('DATA/JTREE_TRAIN_VEC*')):\n",
    "    shutil.copy(f,'INPUT/')"
   ]
  },
  {
   "cell_type": "code",
   "execution_count": null,
   "id": "possible-protocol",
   "metadata": {},
   "outputs": [],
   "source": [
    "import pandas as pd\n",
    "\n",
    "train_vec = pd.read_csv(\"INPUT/JTREE_TRAIN_VEC.csv\")\n",
    "train_vec.head()"
   ]
  },
  {
   "cell_type": "markdown",
   "id": "overhead-right",
   "metadata": {},
   "source": [
    "## 섹션 2 | 종 적합성(Species suitability) 매핑"
   ]
  },
  {
   "cell_type": "code",
   "execution_count": null,
   "id": "novel-payday",
   "metadata": {},
   "outputs": [],
   "source": [
    "# 조슈아 트리 연구지역으로 자른 생물 기후 특징\n",
    "for f in sorted(glob.glob('DATA/BIOCLIM/bclim*.asc')):\n",
    "    shutil.copy(f,'INPUT/')"
   ]
  },
  {
   "cell_type": "code",
   "execution_count": null,
   "id": "collectible-transsexual",
   "metadata": {},
   "outputs": [],
   "source": [
    "# 래스터 특징\n",
    "raster_features = sorted(glob.glob(\n",
    "    'INPUT/bclim*.asc'))\n",
    "print(raster_features)"
   ]
  },
  {
   "cell_type": "code",
   "execution_count": null,
   "id": "sapphire-heavy",
   "metadata": {},
   "outputs": [],
   "source": [
    "# 래스터 특징 수 확인\n",
    "print(len(raster_features), '개 래스터 특징')"
   ]
  },
  {
   "cell_type": "code",
   "execution_count": null,
   "id": "sweet-fishing",
   "metadata": {},
   "outputs": [],
   "source": [
    "# pyimpute 모듈\n",
    "from pyimpute import load_targets"
   ]
  },
  {
   "cell_type": "code",
   "execution_count": null,
   "id": "minute-brooklyn",
   "metadata": {},
   "outputs": [],
   "source": [
    "train_xs, train_y = train_vec.iloc[:,1:20].values, train_vec.iloc[:,0].values # 훈련 데이터 로드\n",
    "target_xs, raster_info = load_targets(raster_features) # scikit-learn용 데이터 구조로 래스터 특징 로드\n",
    "train_xs.shape, train_y.shape # 관측치 크기와 일치하는지 shape 확인"
   ]
  },
  {
   "cell_type": "code",
   "execution_count": null,
   "id": "determined-importance",
   "metadata": {},
   "outputs": [],
   "source": [
    "# ML 분류기 로드\n",
    "from sklearn.ensemble import RandomForestClassifier\n",
    "from sklearn.ensemble import ExtraTreesClassifier \n",
    "from xgboost import XGBClassifier\n",
    "from lightgbm import LGBMClassifier"
   ]
  },
  {
   "cell_type": "code",
   "execution_count": null,
   "id": "experienced-rotation",
   "metadata": {},
   "outputs": [],
   "source": [
    "# ML 분류기 딕셔너리: 이름, (모델)\n",
    "CLASS_MAP = {\n",
    "    'RF': (RandomForestClassifier()),\n",
    "    'ET': (ExtraTreesClassifier()),\n",
    "    'XGB': (XGBClassifier()),\n",
    "    'LGBM': (LGBMClassifier())\n",
    "    }"
   ]
  },
  {
   "cell_type": "code",
   "execution_count": null,
   "id": "random-narrative",
   "metadata": {},
   "outputs": [],
   "source": [
    "# pyimpute, sklearn 로드\n",
    "from pyimpute import impute\n",
    "from sklearn import model_selection"
   ]
  },
  {
   "cell_type": "code",
   "execution_count": null,
   "id": "worse-yield",
   "metadata": {},
   "outputs": [],
   "source": [
    "# 모델 피팅 및 공간 예측(model fitting and spatial range prediction)\n",
    "for name, (model) in CLASS_MAP.items():\n",
    "    # 교차 검증(cross validation)\n",
    "    k = 5 # k-fold\n",
    "    kf = model_selection.KFold(n_splits=k)\n",
    "    accuracy_scores = model_selection.cross_val_score(model, train_xs, train_y, cv=kf, scoring='accuracy')\n",
    "    print(name + \" %d-fold 교차 검증 정확도: %0.2f (+/- %0.2f)\"\n",
    "          % (k, accuracy_scores.mean() * 100, accuracy_scores.std() * 200))\n",
    "    \n",
    "    # 공간 예측(spatial prediction)\n",
    "    model.fit(train_xs, train_y)\n",
    "    os.mkdir('OUTPUT/' + name + '-IMAGES')\n",
    "    impute(target_xs, model, raster_info, outdir='OUTPUT/' + name + '-IMAGES',\n",
    "           class_prob=True, certainty=True)"
   ]
  },
  {
   "cell_type": "code",
   "execution_count": null,
   "id": "dried-spectrum",
   "metadata": {},
   "outputs": [],
   "source": [
    "import rasterio\n",
    "distr_rf = rasterio.open(\"OUTPUT/RF-IMAGES/probability_1.0.tif\").read(1)\n",
    "distr_et = rasterio.open(\"OUTPUT/ET-IMAGES/probability_1.0.tif\").read(1)\n",
    "distr_xgb =  rasterio.open(\"OUTPUT/XGB-IMAGES/probability_1.0.tif\").read(1)\n",
    "distr_lgbm =  rasterio.open(\"OUTPUT/LGBM-IMAGES/probability_1.0.tif\").read(1)\n",
    "distr_averaged = (distr_rf + distr_et + distr_xgb + distr_lgbm)/4"
   ]
  },
  {
   "cell_type": "code",
   "execution_count": null,
   "id": "tropical-county",
   "metadata": {},
   "outputs": [],
   "source": [
    "# 종 적합성 매핑의 평균값 가시화\n",
    "from pylab import plt\n",
    "\n",
    "def plotit(x, title, cmap=\"Blues\"):\n",
    "    plt.imshow(x, cmap=cmap, interpolation='nearest')\n",
    "    plt.colorbar()\n",
    "    plt.title(title, fontweight = 'bold')\n",
    "\n",
    "plotit(distr_averaged, \"Joshua Tree Range, averaged\", cmap=\"Greens\")"
   ]
  },
  {
   "cell_type": "code",
   "execution_count": null,
   "id": "allied-focus",
   "metadata": {},
   "outputs": [],
   "source": [
    "# 조슈아 트리 국립공원의 종 적합성 가시화\n",
    "plotit(distr_averaged[100:150, 100:150], \"Joshua Tree National Park Suitability\", cmap=\"Greens\")"
   ]
  },
  {
   "cell_type": "code",
   "execution_count": null,
   "id": "rental-peter",
   "metadata": {},
   "outputs": [],
   "source": []
  }
 ],
 "metadata": {
  "kernelspec": {
   "display_name": "Python 3 (ipykernel)",
   "language": "python",
   "name": "python3"
  },
  "language_info": {
   "codemirror_mode": {
    "name": "ipython",
    "version": 3
   },
   "file_extension": ".py",
   "mimetype": "text/x-python",
   "name": "python",
   "nbconvert_exporter": "python",
   "pygments_lexer": "ipython3",
   "version": "3.9.7"
  }
 },
 "nbformat": 4,
 "nbformat_minor": 5
}
