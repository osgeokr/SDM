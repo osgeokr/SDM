{
 "cells": [
  {
   "cell_type": "markdown",
   "id": "arranged-participant",
   "metadata": {},
   "source": [
    "# Python 종 분포 모델링(SDM: Species Distribution Modeling)"
   ]
  },
  {
   "cell_type": "markdown",
   "id": "delayed-blues",
   "metadata": {},
   "source": [
    "## 섹션 1 | 설정 (Set up)"
   ]
  },
  {
   "cell_type": "code",
   "execution_count": 1,
   "id": "soviet-hypothetical",
   "metadata": {},
   "outputs": [
    {
     "data": {
      "text/plain": [
       "'C:\\\\Users\\\\bhyu'"
      ]
     },
     "execution_count": 1,
     "metadata": {},
     "output_type": "execute_result"
    }
   ],
   "source": [
    "import os\n",
    "\n",
    "os.getcwd() # 현재 작업 디렉토리"
   ]
  },
  {
   "cell_type": "code",
   "execution_count": 2,
   "id": "limiting-arkansas",
   "metadata": {},
   "outputs": [
    {
     "data": {
      "text/plain": [
       "'D:\\\\GEODATA'"
      ]
     },
     "execution_count": 2,
     "metadata": {},
     "output_type": "execute_result"
    }
   ],
   "source": [
    "os.chdir('D:\\\\GEODATA') # 작업 디렉토리 변경\n",
    "os.getcwd() # 현재 작업 디렉토리"
   ]
  },
  {
   "cell_type": "code",
   "execution_count": 3,
   "id": "contained-investing",
   "metadata": {},
   "outputs": [],
   "source": [
    "os.mkdir(\"INPUT\") # 작업 디렉토리에 'INPUT(입력)' 폴더 생성\n",
    "os.mkdir(\"OUTPUT\") # 작업 디렉토리에 'OUTPUT(출력)' 폴더 생성"
   ]
  },
  {
   "cell_type": "code",
   "execution_count": 4,
   "id": "emotional-argentina",
   "metadata": {},
   "outputs": [],
   "source": [
    "import geopandas as gpd # GeoPandas(지오판다스)\n",
    "import rasterio\n",
    "import shutil # shutil(shell utility, 쉘 유틸리티)\n",
    "import glob # glob(글로브)"
   ]
  },
  {
   "cell_type": "markdown",
   "id": "0a8e84c5",
   "metadata": {},
   "source": [
    "pip install --upgrade pip\n",
    "pip install wheel\n",
    "pip install pipwin\n",
    "pipwin refresh"
   ]
  },
  {
   "cell_type": "markdown",
   "id": "pretty-basin",
   "metadata": {},
   "source": [
    "pipwin install numpy\n",
    "pipwin install pandas\n",
    "pipwin install shapely\n",
    "pipwin install gdal\n",
    "pipwin install fiona\n",
    "pipwin install pyproj\n",
    "pipwin install six\n",
    "pipwin install rtree\n",
    "pipwin install geopandas\n",
    "pipwin install rasterio"
   ]
  },
  {
   "cell_type": "markdown",
   "id": "laughing-premiere",
   "metadata": {},
   "source": [
    "pip install matplotlib\n",
    "pip install xgboost\n",
    "pip install lightgbm\n",
    "pip install pyimpute"
   ]
  },
  {
   "cell_type": "code",
   "execution_count": 5,
   "id": "6cad726c",
   "metadata": {},
   "outputs": [
    {
     "name": "stderr",
     "output_type": "stream",
     "text": [
      "C:\\Users\\bhyu\\AppData\\Local\\Programs\\Python\\Python39\\lib\\site-packages\\geopandas\\geodataframe.py:35: ShapelyDeprecationWarning: The array interface is deprecated and will no longer work in Shapely 2.0. Convert the '.coords' to a numpy array instead.\n",
      "  out = from_shapely(data)\n"
     ]
    },
    {
     "data": {
      "text/html": [
       "<div>\n",
       "<style scoped>\n",
       "    .dataframe tbody tr th:only-of-type {\n",
       "        vertical-align: middle;\n",
       "    }\n",
       "\n",
       "    .dataframe tbody tr th {\n",
       "        vertical-align: top;\n",
       "    }\n",
       "\n",
       "    .dataframe thead th {\n",
       "        text-align: right;\n",
       "    }\n",
       "</style>\n",
       "<table border=\"1\" class=\"dataframe\">\n",
       "  <thead>\n",
       "    <tr style=\"text-align: right;\">\n",
       "      <th></th>\n",
       "      <th>CLASS</th>\n",
       "      <th>lon</th>\n",
       "      <th>lat</th>\n",
       "      <th>geometry</th>\n",
       "    </tr>\n",
       "  </thead>\n",
       "  <tbody>\n",
       "    <tr>\n",
       "      <th>0</th>\n",
       "      <td>1.0</td>\n",
       "      <td>-116.298937</td>\n",
       "      <td>33.998333</td>\n",
       "      <td>POINT (-116.29894 33.99833)</td>\n",
       "    </tr>\n",
       "    <tr>\n",
       "      <th>1</th>\n",
       "      <td>1.0</td>\n",
       "      <td>-116.469370</td>\n",
       "      <td>34.275108</td>\n",
       "      <td>POINT (-116.46937 34.27511)</td>\n",
       "    </tr>\n",
       "    <tr>\n",
       "      <th>2</th>\n",
       "      <td>1.0</td>\n",
       "      <td>-113.074417</td>\n",
       "      <td>34.238183</td>\n",
       "      <td>POINT (-113.07442 34.23818)</td>\n",
       "    </tr>\n",
       "    <tr>\n",
       "      <th>3</th>\n",
       "      <td>1.0</td>\n",
       "      <td>-116.390389</td>\n",
       "      <td>34.073489</td>\n",
       "      <td>POINT (-116.39039 34.07349)</td>\n",
       "    </tr>\n",
       "    <tr>\n",
       "      <th>4</th>\n",
       "      <td>1.0</td>\n",
       "      <td>-115.139830</td>\n",
       "      <td>36.169941</td>\n",
       "      <td>POINT (-115.13983 36.16994)</td>\n",
       "    </tr>\n",
       "  </tbody>\n",
       "</table>\n",
       "</div>"
      ],
      "text/plain": [
       "   CLASS         lon        lat                     geometry\n",
       "0    1.0 -116.298937  33.998333  POINT (-116.29894 33.99833)\n",
       "1    1.0 -116.469370  34.275108  POINT (-116.46937 34.27511)\n",
       "2    1.0 -113.074417  34.238183  POINT (-113.07442 34.23818)\n",
       "3    1.0 -116.390389  34.073489  POINT (-116.39039 34.07349)\n",
       "4    1.0 -115.139830  36.169941  POINT (-115.13983 36.16994)"
      ]
     },
     "execution_count": 5,
     "metadata": {},
     "output_type": "execute_result"
    }
   ],
   "source": [
    "# 샘플링 지점\n",
    "gdf = gpd.GeoDataFrame.from_file(\"DATA/JTREE.shp\")\n",
    "gdf.head()"
   ]
  },
  {
   "cell_type": "code",
   "execution_count": 6,
   "id": "3789f8f2",
   "metadata": {},
   "outputs": [
    {
     "name": "stdout",
     "output_type": "stream",
     "text": [
      "[(-116.298937, 33.998333), (-116.46937, 34.275108), (-113.074417, 34.238183), (-116.390389, 34.073489), (-115.13983, 36.169941)]\n"
     ]
    }
   ],
   "source": [
    "coord_list = [(x,y) for x,y in zip(gdf['geometry'].x , gdf['geometry'].y)]\n",
    "print(coord_list[0:5])"
   ]
  },
  {
   "cell_type": "code",
   "execution_count": 7,
   "id": "be1335f8",
   "metadata": {},
   "outputs": [
    {
     "name": "stdout",
     "output_type": "stream",
     "text": [
      "['DATA/BIOCLIM\\\\bclim1.asc', 'DATA/BIOCLIM\\\\bclim10.asc', 'DATA/BIOCLIM\\\\bclim11.asc', 'DATA/BIOCLIM\\\\bclim12.asc', 'DATA/BIOCLIM\\\\bclim13.asc', 'DATA/BIOCLIM\\\\bclim14.asc', 'DATA/BIOCLIM\\\\bclim15.asc', 'DATA/BIOCLIM\\\\bclim16.asc', 'DATA/BIOCLIM\\\\bclim17.asc', 'DATA/BIOCLIM\\\\bclim18.asc', 'DATA/BIOCLIM\\\\bclim19.asc', 'DATA/BIOCLIM\\\\bclim2.asc', 'DATA/BIOCLIM\\\\bclim3.asc', 'DATA/BIOCLIM\\\\bclim4.asc', 'DATA/BIOCLIM\\\\bclim5.asc', 'DATA/BIOCLIM\\\\bclim6.asc', 'DATA/BIOCLIM\\\\bclim7.asc', 'DATA/BIOCLIM\\\\bclim8.asc', 'DATA/BIOCLIM\\\\bclim9.asc']\n"
     ]
    }
   ],
   "source": [
    "# 래스터 특징\n",
    "raster_features = sorted(glob.glob(\n",
    "    'DATA/BIOCLIM/bclim*.asc'))\n",
    "print(raster_features)"
   ]
  },
  {
   "cell_type": "code",
   "execution_count": 8,
   "id": "ea00917e",
   "metadata": {},
   "outputs": [],
   "source": [
    "from pathlib import Path # pathlib\n",
    "\n",
    "for file in raster_features:\n",
    "    src = rasterio.open(file) # 파일 읽기\n",
    "    gdf[Path(file).stem] = [x for x in src.sample(coord_list)] # 포인트 샘플링\n",
    "    gdf[Path(file).stem] = gdf[Path(file).stem].astype('float64')"
   ]
  },
  {
   "cell_type": "code",
   "execution_count": 9,
   "id": "88a93fc9",
   "metadata": {},
   "outputs": [
    {
     "data": {
      "text/html": [
       "<div>\n",
       "<style scoped>\n",
       "    .dataframe tbody tr th:only-of-type {\n",
       "        vertical-align: middle;\n",
       "    }\n",
       "\n",
       "    .dataframe tbody tr th {\n",
       "        vertical-align: top;\n",
       "    }\n",
       "\n",
       "    .dataframe thead th {\n",
       "        text-align: right;\n",
       "    }\n",
       "</style>\n",
       "<table border=\"1\" class=\"dataframe\">\n",
       "  <thead>\n",
       "    <tr style=\"text-align: right;\">\n",
       "      <th></th>\n",
       "      <th>CLASS</th>\n",
       "      <th>lon</th>\n",
       "      <th>lat</th>\n",
       "      <th>geometry</th>\n",
       "      <th>bclim1</th>\n",
       "      <th>bclim10</th>\n",
       "      <th>bclim11</th>\n",
       "      <th>bclim12</th>\n",
       "      <th>bclim13</th>\n",
       "      <th>bclim14</th>\n",
       "      <th>...</th>\n",
       "      <th>bclim18</th>\n",
       "      <th>bclim19</th>\n",
       "      <th>bclim2</th>\n",
       "      <th>bclim3</th>\n",
       "      <th>bclim4</th>\n",
       "      <th>bclim5</th>\n",
       "      <th>bclim6</th>\n",
       "      <th>bclim7</th>\n",
       "      <th>bclim8</th>\n",
       "      <th>bclim9</th>\n",
       "    </tr>\n",
       "  </thead>\n",
       "  <tbody>\n",
       "    <tr>\n",
       "      <th>0</th>\n",
       "      <td>1.0</td>\n",
       "      <td>-116.298937</td>\n",
       "      <td>33.998333</td>\n",
       "      <td>POINT (-116.29894 33.99833)</td>\n",
       "      <td>149.0</td>\n",
       "      <td>238.0</td>\n",
       "      <td>71.0</td>\n",
       "      <td>337.0</td>\n",
       "      <td>50.0</td>\n",
       "      <td>2.0</td>\n",
       "      <td>...</td>\n",
       "      <td>45.0</td>\n",
       "      <td>143.0</td>\n",
       "      <td>162.0</td>\n",
       "      <td>46.0</td>\n",
       "      <td>6649.0</td>\n",
       "      <td>344.0</td>\n",
       "      <td>-2.0</td>\n",
       "      <td>346.0</td>\n",
       "      <td>80.0</td>\n",
       "      <td>212.0</td>\n",
       "    </tr>\n",
       "    <tr>\n",
       "      <th>1</th>\n",
       "      <td>1.0</td>\n",
       "      <td>-116.469370</td>\n",
       "      <td>34.275108</td>\n",
       "      <td>POINT (-116.46937 34.27511)</td>\n",
       "      <td>152.0</td>\n",
       "      <td>242.0</td>\n",
       "      <td>71.0</td>\n",
       "      <td>320.0</td>\n",
       "      <td>49.0</td>\n",
       "      <td>2.0</td>\n",
       "      <td>...</td>\n",
       "      <td>37.0</td>\n",
       "      <td>138.0</td>\n",
       "      <td>164.0</td>\n",
       "      <td>46.0</td>\n",
       "      <td>6811.0</td>\n",
       "      <td>350.0</td>\n",
       "      <td>-3.0</td>\n",
       "      <td>353.0</td>\n",
       "      <td>81.0</td>\n",
       "      <td>217.0</td>\n",
       "    </tr>\n",
       "    <tr>\n",
       "      <th>2</th>\n",
       "      <td>1.0</td>\n",
       "      <td>-113.074417</td>\n",
       "      <td>34.238183</td>\n",
       "      <td>POINT (-113.07442 34.23818)</td>\n",
       "      <td>170.0</td>\n",
       "      <td>266.0</td>\n",
       "      <td>82.0</td>\n",
       "      <td>338.0</td>\n",
       "      <td>52.0</td>\n",
       "      <td>5.0</td>\n",
       "      <td>...</td>\n",
       "      <td>91.0</td>\n",
       "      <td>103.0</td>\n",
       "      <td>183.0</td>\n",
       "      <td>48.0</td>\n",
       "      <td>7302.0</td>\n",
       "      <td>372.0</td>\n",
       "      <td>-7.0</td>\n",
       "      <td>379.0</td>\n",
       "      <td>264.0</td>\n",
       "      <td>196.0</td>\n",
       "    </tr>\n",
       "    <tr>\n",
       "      <th>3</th>\n",
       "      <td>1.0</td>\n",
       "      <td>-116.390389</td>\n",
       "      <td>34.073489</td>\n",
       "      <td>POINT (-116.39039 34.07349)</td>\n",
       "      <td>143.0</td>\n",
       "      <td>231.0</td>\n",
       "      <td>66.0</td>\n",
       "      <td>371.0</td>\n",
       "      <td>57.0</td>\n",
       "      <td>2.0</td>\n",
       "      <td>...</td>\n",
       "      <td>43.0</td>\n",
       "      <td>161.0</td>\n",
       "      <td>162.0</td>\n",
       "      <td>47.0</td>\n",
       "      <td>6597.0</td>\n",
       "      <td>337.0</td>\n",
       "      <td>-7.0</td>\n",
       "      <td>344.0</td>\n",
       "      <td>74.0</td>\n",
       "      <td>205.0</td>\n",
       "    </tr>\n",
       "    <tr>\n",
       "      <th>4</th>\n",
       "      <td>1.0</td>\n",
       "      <td>-115.139830</td>\n",
       "      <td>36.169941</td>\n",
       "      <td>POINT (-115.13983 36.16994)</td>\n",
       "      <td>188.0</td>\n",
       "      <td>301.0</td>\n",
       "      <td>80.0</td>\n",
       "      <td>99.0</td>\n",
       "      <td>12.0</td>\n",
       "      <td>2.0</td>\n",
       "      <td>...</td>\n",
       "      <td>24.0</td>\n",
       "      <td>30.0</td>\n",
       "      <td>154.0</td>\n",
       "      <td>38.0</td>\n",
       "      <td>8623.0</td>\n",
       "      <td>397.0</td>\n",
       "      <td>1.0</td>\n",
       "      <td>396.0</td>\n",
       "      <td>101.0</td>\n",
       "      <td>229.0</td>\n",
       "    </tr>\n",
       "  </tbody>\n",
       "</table>\n",
       "<p>5 rows × 23 columns</p>\n",
       "</div>"
      ],
      "text/plain": [
       "   CLASS         lon        lat                     geometry  bclim1  bclim10  \\\n",
       "0    1.0 -116.298937  33.998333  POINT (-116.29894 33.99833)   149.0    238.0   \n",
       "1    1.0 -116.469370  34.275108  POINT (-116.46937 34.27511)   152.0    242.0   \n",
       "2    1.0 -113.074417  34.238183  POINT (-113.07442 34.23818)   170.0    266.0   \n",
       "3    1.0 -116.390389  34.073489  POINT (-116.39039 34.07349)   143.0    231.0   \n",
       "4    1.0 -115.139830  36.169941  POINT (-115.13983 36.16994)   188.0    301.0   \n",
       "\n",
       "   bclim11  bclim12  bclim13  bclim14  ...  bclim18  bclim19  bclim2  bclim3  \\\n",
       "0     71.0    337.0     50.0      2.0  ...     45.0    143.0   162.0    46.0   \n",
       "1     71.0    320.0     49.0      2.0  ...     37.0    138.0   164.0    46.0   \n",
       "2     82.0    338.0     52.0      5.0  ...     91.0    103.0   183.0    48.0   \n",
       "3     66.0    371.0     57.0      2.0  ...     43.0    161.0   162.0    47.0   \n",
       "4     80.0     99.0     12.0      2.0  ...     24.0     30.0   154.0    38.0   \n",
       "\n",
       "   bclim4  bclim5  bclim6  bclim7  bclim8  bclim9  \n",
       "0  6649.0   344.0    -2.0   346.0    80.0   212.0  \n",
       "1  6811.0   350.0    -3.0   353.0    81.0   217.0  \n",
       "2  7302.0   372.0    -7.0   379.0   264.0   196.0  \n",
       "3  6597.0   337.0    -7.0   344.0    74.0   205.0  \n",
       "4  8623.0   397.0     1.0   396.0   101.0   229.0  \n",
       "\n",
       "[5 rows x 23 columns]"
      ]
     },
     "execution_count": 9,
     "metadata": {},
     "output_type": "execute_result"
    }
   ],
   "source": [
    "gdf.head()"
   ]
  },
  {
   "cell_type": "code",
   "execution_count": 10,
   "id": "bcc6b980",
   "metadata": {},
   "outputs": [],
   "source": [
    "gdf[gdf.columns.difference(['lon', 'lat', 'geometry'])].to_csv('INPUT/JTREE_TRAIN_VEC.csv',index=False)"
   ]
  },
  {
   "cell_type": "code",
   "execution_count": 11,
   "id": "possible-protocol",
   "metadata": {},
   "outputs": [
    {
     "data": {
      "text/html": [
       "<div>\n",
       "<style scoped>\n",
       "    .dataframe tbody tr th:only-of-type {\n",
       "        vertical-align: middle;\n",
       "    }\n",
       "\n",
       "    .dataframe tbody tr th {\n",
       "        vertical-align: top;\n",
       "    }\n",
       "\n",
       "    .dataframe thead th {\n",
       "        text-align: right;\n",
       "    }\n",
       "</style>\n",
       "<table border=\"1\" class=\"dataframe\">\n",
       "  <thead>\n",
       "    <tr style=\"text-align: right;\">\n",
       "      <th></th>\n",
       "      <th>CLASS</th>\n",
       "      <th>bclim1</th>\n",
       "      <th>bclim10</th>\n",
       "      <th>bclim11</th>\n",
       "      <th>bclim12</th>\n",
       "      <th>bclim13</th>\n",
       "      <th>bclim14</th>\n",
       "      <th>bclim15</th>\n",
       "      <th>bclim16</th>\n",
       "      <th>bclim17</th>\n",
       "      <th>bclim18</th>\n",
       "      <th>bclim19</th>\n",
       "      <th>bclim2</th>\n",
       "      <th>bclim3</th>\n",
       "      <th>bclim4</th>\n",
       "      <th>bclim5</th>\n",
       "      <th>bclim6</th>\n",
       "      <th>bclim7</th>\n",
       "      <th>bclim8</th>\n",
       "      <th>bclim9</th>\n",
       "    </tr>\n",
       "  </thead>\n",
       "  <tbody>\n",
       "    <tr>\n",
       "      <th>0</th>\n",
       "      <td>1.0</td>\n",
       "      <td>149.0</td>\n",
       "      <td>238.0</td>\n",
       "      <td>71.0</td>\n",
       "      <td>337.0</td>\n",
       "      <td>50.0</td>\n",
       "      <td>2.0</td>\n",
       "      <td>55.0</td>\n",
       "      <td>146.0</td>\n",
       "      <td>29.0</td>\n",
       "      <td>45.0</td>\n",
       "      <td>143.0</td>\n",
       "      <td>162.0</td>\n",
       "      <td>46.0</td>\n",
       "      <td>6649.0</td>\n",
       "      <td>344.0</td>\n",
       "      <td>-2.0</td>\n",
       "      <td>346.0</td>\n",
       "      <td>80.0</td>\n",
       "      <td>212.0</td>\n",
       "    </tr>\n",
       "    <tr>\n",
       "      <th>1</th>\n",
       "      <td>1.0</td>\n",
       "      <td>152.0</td>\n",
       "      <td>242.0</td>\n",
       "      <td>71.0</td>\n",
       "      <td>320.0</td>\n",
       "      <td>49.0</td>\n",
       "      <td>2.0</td>\n",
       "      <td>57.0</td>\n",
       "      <td>140.0</td>\n",
       "      <td>27.0</td>\n",
       "      <td>37.0</td>\n",
       "      <td>138.0</td>\n",
       "      <td>164.0</td>\n",
       "      <td>46.0</td>\n",
       "      <td>6811.0</td>\n",
       "      <td>350.0</td>\n",
       "      <td>-3.0</td>\n",
       "      <td>353.0</td>\n",
       "      <td>81.0</td>\n",
       "      <td>217.0</td>\n",
       "    </tr>\n",
       "    <tr>\n",
       "      <th>2</th>\n",
       "      <td>1.0</td>\n",
       "      <td>170.0</td>\n",
       "      <td>266.0</td>\n",
       "      <td>82.0</td>\n",
       "      <td>338.0</td>\n",
       "      <td>52.0</td>\n",
       "      <td>5.0</td>\n",
       "      <td>45.0</td>\n",
       "      <td>118.0</td>\n",
       "      <td>26.0</td>\n",
       "      <td>91.0</td>\n",
       "      <td>103.0</td>\n",
       "      <td>183.0</td>\n",
       "      <td>48.0</td>\n",
       "      <td>7302.0</td>\n",
       "      <td>372.0</td>\n",
       "      <td>-7.0</td>\n",
       "      <td>379.0</td>\n",
       "      <td>264.0</td>\n",
       "      <td>196.0</td>\n",
       "    </tr>\n",
       "    <tr>\n",
       "      <th>3</th>\n",
       "      <td>1.0</td>\n",
       "      <td>143.0</td>\n",
       "      <td>231.0</td>\n",
       "      <td>66.0</td>\n",
       "      <td>371.0</td>\n",
       "      <td>57.0</td>\n",
       "      <td>2.0</td>\n",
       "      <td>59.0</td>\n",
       "      <td>165.0</td>\n",
       "      <td>30.0</td>\n",
       "      <td>43.0</td>\n",
       "      <td>161.0</td>\n",
       "      <td>162.0</td>\n",
       "      <td>47.0</td>\n",
       "      <td>6597.0</td>\n",
       "      <td>337.0</td>\n",
       "      <td>-7.0</td>\n",
       "      <td>344.0</td>\n",
       "      <td>74.0</td>\n",
       "      <td>205.0</td>\n",
       "    </tr>\n",
       "    <tr>\n",
       "      <th>4</th>\n",
       "      <td>1.0</td>\n",
       "      <td>188.0</td>\n",
       "      <td>301.0</td>\n",
       "      <td>80.0</td>\n",
       "      <td>99.0</td>\n",
       "      <td>12.0</td>\n",
       "      <td>2.0</td>\n",
       "      <td>33.0</td>\n",
       "      <td>32.0</td>\n",
       "      <td>12.0</td>\n",
       "      <td>24.0</td>\n",
       "      <td>30.0</td>\n",
       "      <td>154.0</td>\n",
       "      <td>38.0</td>\n",
       "      <td>8623.0</td>\n",
       "      <td>397.0</td>\n",
       "      <td>1.0</td>\n",
       "      <td>396.0</td>\n",
       "      <td>101.0</td>\n",
       "      <td>229.0</td>\n",
       "    </tr>\n",
       "  </tbody>\n",
       "</table>\n",
       "</div>"
      ],
      "text/plain": [
       "   CLASS  bclim1  bclim10  bclim11  bclim12  bclim13  bclim14  bclim15  \\\n",
       "0    1.0   149.0    238.0     71.0    337.0     50.0      2.0     55.0   \n",
       "1    1.0   152.0    242.0     71.0    320.0     49.0      2.0     57.0   \n",
       "2    1.0   170.0    266.0     82.0    338.0     52.0      5.0     45.0   \n",
       "3    1.0   143.0    231.0     66.0    371.0     57.0      2.0     59.0   \n",
       "4    1.0   188.0    301.0     80.0     99.0     12.0      2.0     33.0   \n",
       "\n",
       "   bclim16  bclim17  bclim18  bclim19  bclim2  bclim3  bclim4  bclim5  bclim6  \\\n",
       "0    146.0     29.0     45.0    143.0   162.0    46.0  6649.0   344.0    -2.0   \n",
       "1    140.0     27.0     37.0    138.0   164.0    46.0  6811.0   350.0    -3.0   \n",
       "2    118.0     26.0     91.0    103.0   183.0    48.0  7302.0   372.0    -7.0   \n",
       "3    165.0     30.0     43.0    161.0   162.0    47.0  6597.0   337.0    -7.0   \n",
       "4     32.0     12.0     24.0     30.0   154.0    38.0  8623.0   397.0     1.0   \n",
       "\n",
       "   bclim7  bclim8  bclim9  \n",
       "0   346.0    80.0   212.0  \n",
       "1   353.0    81.0   217.0  \n",
       "2   379.0   264.0   196.0  \n",
       "3   344.0    74.0   205.0  \n",
       "4   396.0   101.0   229.0  "
      ]
     },
     "execution_count": 11,
     "metadata": {},
     "output_type": "execute_result"
    }
   ],
   "source": [
    "import pandas as pd\n",
    "\n",
    "train_vec = pd.read_csv(\"INPUT/JTREE_TRAIN_VEC.csv\")\n",
    "train_vec.head()"
   ]
  },
  {
   "cell_type": "markdown",
   "id": "overhead-right",
   "metadata": {},
   "source": [
    "## 섹션 2 | 종 적합성(Species suitability) 매핑"
   ]
  },
  {
   "cell_type": "code",
   "execution_count": 12,
   "id": "novel-payday",
   "metadata": {},
   "outputs": [],
   "source": [
    "# 조슈아 트리 연구지역으로 자른 생물 기후 특징\n",
    "for f in sorted(glob.glob('DATA/BIOCLIM/bclim*.asc')):\n",
    "    shutil.copy(f,'INPUT/')"
   ]
  },
  {
   "cell_type": "code",
   "execution_count": 13,
   "id": "collectible-transsexual",
   "metadata": {},
   "outputs": [
    {
     "name": "stdout",
     "output_type": "stream",
     "text": [
      "['INPUT\\\\bclim1.asc', 'INPUT\\\\bclim10.asc', 'INPUT\\\\bclim11.asc', 'INPUT\\\\bclim12.asc', 'INPUT\\\\bclim13.asc', 'INPUT\\\\bclim14.asc', 'INPUT\\\\bclim15.asc', 'INPUT\\\\bclim16.asc', 'INPUT\\\\bclim17.asc', 'INPUT\\\\bclim18.asc', 'INPUT\\\\bclim19.asc', 'INPUT\\\\bclim2.asc', 'INPUT\\\\bclim3.asc', 'INPUT\\\\bclim4.asc', 'INPUT\\\\bclim5.asc', 'INPUT\\\\bclim6.asc', 'INPUT\\\\bclim7.asc', 'INPUT\\\\bclim8.asc', 'INPUT\\\\bclim9.asc']\n"
     ]
    }
   ],
   "source": [
    "# 래스터 특징\n",
    "raster_features = sorted(glob.glob(\n",
    "    'INPUT/bclim*.asc'))\n",
    "print(raster_features)"
   ]
  },
  {
   "cell_type": "code",
   "execution_count": 14,
   "id": "sapphire-heavy",
   "metadata": {},
   "outputs": [
    {
     "name": "stdout",
     "output_type": "stream",
     "text": [
      "19 개 래스터 특징\n"
     ]
    }
   ],
   "source": [
    "# 래스터 특징 수 확인\n",
    "print(len(raster_features), '개 래스터 특징')"
   ]
  },
  {
   "cell_type": "code",
   "execution_count": 15,
   "id": "sweet-fishing",
   "metadata": {},
   "outputs": [],
   "source": [
    "# pyimpute 모듈\n",
    "from pyimpute import load_targets"
   ]
  },
  {
   "cell_type": "code",
   "execution_count": 16,
   "id": "minute-brooklyn",
   "metadata": {},
   "outputs": [
    {
     "data": {
      "text/plain": [
       "((7200, 19), (7200,))"
      ]
     },
     "execution_count": 16,
     "metadata": {},
     "output_type": "execute_result"
    }
   ],
   "source": [
    "train_xs, train_y = train_vec.iloc[:,1:20].values, train_vec.iloc[:,0].values # 훈련 데이터 로드\n",
    "target_xs, raster_info = load_targets(raster_features) # scikit-learn용 데이터 구조로 래스터 특징 로드\n",
    "train_xs.shape, train_y.shape # 관측치 크기와 일치하는지 shape 확인"
   ]
  },
  {
   "cell_type": "code",
   "execution_count": 17,
   "id": "determined-importance",
   "metadata": {},
   "outputs": [
    {
     "name": "stderr",
     "output_type": "stream",
     "text": [
      "C:\\Users\\bhyu\\AppData\\Local\\Programs\\Python\\Python39\\lib\\site-packages\\xgboost\\compat.py:36: FutureWarning: pandas.Int64Index is deprecated and will be removed from pandas in a future version. Use pandas.Index with the appropriate dtype instead.\n",
      "  from pandas import MultiIndex, Int64Index\n"
     ]
    }
   ],
   "source": [
    "# ML 분류기 로드\n",
    "from sklearn.ensemble import RandomForestClassifier\n",
    "from sklearn.ensemble import ExtraTreesClassifier \n",
    "from xgboost import XGBClassifier\n",
    "from lightgbm import LGBMClassifier"
   ]
  },
  {
   "cell_type": "code",
   "execution_count": 18,
   "id": "experienced-rotation",
   "metadata": {},
   "outputs": [],
   "source": [
    "# ML 분류기 딕셔너리: 이름, (모델)\n",
    "CLASS_MAP = {\n",
    "    'RF': (RandomForestClassifier()),\n",
    "    'ET': (ExtraTreesClassifier()),\n",
    "    'XGB': (XGBClassifier()),\n",
    "    'LGBM': (LGBMClassifier())\n",
    "    }"
   ]
  },
  {
   "cell_type": "code",
   "execution_count": 19,
   "id": "random-narrative",
   "metadata": {},
   "outputs": [],
   "source": [
    "# pyimpute, sklearn 로드\n",
    "from pyimpute import impute\n",
    "from sklearn import model_selection"
   ]
  },
  {
   "cell_type": "code",
   "execution_count": 20,
   "id": "worse-yield",
   "metadata": {},
   "outputs": [
    {
     "name": "stdout",
     "output_type": "stream",
     "text": [
      "RF 5-fold 교차 검증 정확도: 90.31 (+/- 7.27)\n",
      "ET 5-fold 교차 검증 정확도: 89.83 (+/- 7.61)\n"
     ]
    },
    {
     "name": "stderr",
     "output_type": "stream",
     "text": [
      "C:\\Users\\bhyu\\AppData\\Local\\Programs\\Python\\Python39\\lib\\site-packages\\xgboost\\sklearn.py:1224: UserWarning: The use of label encoder in XGBClassifier is deprecated and will be removed in a future release. To remove this warning, do the following: 1) Pass option use_label_encoder=False when constructing XGBClassifier object; and 2) Encode your labels (y) as integers starting with 0, i.e. 0, 1, 2, ..., [num_class - 1].\n",
      "  warnings.warn(label_encoder_deprecation_msg, UserWarning)\n"
     ]
    },
    {
     "name": "stdout",
     "output_type": "stream",
     "text": [
      "[01:35:50] WARNING: C:/Users/Administrator/workspace/xgboost-win64_release_1.5.1/src/learner.cc:1115: Starting in XGBoost 1.3.0, the default evaluation metric used with the objective 'binary:logistic' was changed from 'error' to 'logloss'. Explicitly set eval_metric if you'd like to restore the old behavior.\n"
     ]
    },
    {
     "name": "stderr",
     "output_type": "stream",
     "text": [
      "C:\\Users\\bhyu\\AppData\\Local\\Programs\\Python\\Python39\\lib\\site-packages\\xgboost\\sklearn.py:1224: UserWarning: The use of label encoder in XGBClassifier is deprecated and will be removed in a future release. To remove this warning, do the following: 1) Pass option use_label_encoder=False when constructing XGBClassifier object; and 2) Encode your labels (y) as integers starting with 0, i.e. 0, 1, 2, ..., [num_class - 1].\n",
      "  warnings.warn(label_encoder_deprecation_msg, UserWarning)\n"
     ]
    },
    {
     "name": "stdout",
     "output_type": "stream",
     "text": [
      "[01:35:51] WARNING: C:/Users/Administrator/workspace/xgboost-win64_release_1.5.1/src/learner.cc:1115: Starting in XGBoost 1.3.0, the default evaluation metric used with the objective 'binary:logistic' was changed from 'error' to 'logloss'. Explicitly set eval_metric if you'd like to restore the old behavior.\n"
     ]
    },
    {
     "name": "stderr",
     "output_type": "stream",
     "text": [
      "C:\\Users\\bhyu\\AppData\\Local\\Programs\\Python\\Python39\\lib\\site-packages\\xgboost\\sklearn.py:1224: UserWarning: The use of label encoder in XGBClassifier is deprecated and will be removed in a future release. To remove this warning, do the following: 1) Pass option use_label_encoder=False when constructing XGBClassifier object; and 2) Encode your labels (y) as integers starting with 0, i.e. 0, 1, 2, ..., [num_class - 1].\n",
      "  warnings.warn(label_encoder_deprecation_msg, UserWarning)\n"
     ]
    },
    {
     "name": "stdout",
     "output_type": "stream",
     "text": [
      "[01:35:51] WARNING: C:/Users/Administrator/workspace/xgboost-win64_release_1.5.1/src/learner.cc:1115: Starting in XGBoost 1.3.0, the default evaluation metric used with the objective 'binary:logistic' was changed from 'error' to 'logloss'. Explicitly set eval_metric if you'd like to restore the old behavior.\n"
     ]
    },
    {
     "name": "stderr",
     "output_type": "stream",
     "text": [
      "C:\\Users\\bhyu\\AppData\\Local\\Programs\\Python\\Python39\\lib\\site-packages\\xgboost\\sklearn.py:1224: UserWarning: The use of label encoder in XGBClassifier is deprecated and will be removed in a future release. To remove this warning, do the following: 1) Pass option use_label_encoder=False when constructing XGBClassifier object; and 2) Encode your labels (y) as integers starting with 0, i.e. 0, 1, 2, ..., [num_class - 1].\n",
      "  warnings.warn(label_encoder_deprecation_msg, UserWarning)\n"
     ]
    },
    {
     "name": "stdout",
     "output_type": "stream",
     "text": [
      "[01:35:52] WARNING: C:/Users/Administrator/workspace/xgboost-win64_release_1.5.1/src/learner.cc:1115: Starting in XGBoost 1.3.0, the default evaluation metric used with the objective 'binary:logistic' was changed from 'error' to 'logloss'. Explicitly set eval_metric if you'd like to restore the old behavior.\n"
     ]
    },
    {
     "name": "stderr",
     "output_type": "stream",
     "text": [
      "C:\\Users\\bhyu\\AppData\\Local\\Programs\\Python\\Python39\\lib\\site-packages\\xgboost\\sklearn.py:1224: UserWarning: The use of label encoder in XGBClassifier is deprecated and will be removed in a future release. To remove this warning, do the following: 1) Pass option use_label_encoder=False when constructing XGBClassifier object; and 2) Encode your labels (y) as integers starting with 0, i.e. 0, 1, 2, ..., [num_class - 1].\n",
      "  warnings.warn(label_encoder_deprecation_msg, UserWarning)\n"
     ]
    },
    {
     "name": "stdout",
     "output_type": "stream",
     "text": [
      "[01:35:53] WARNING: C:/Users/Administrator/workspace/xgboost-win64_release_1.5.1/src/learner.cc:1115: Starting in XGBoost 1.3.0, the default evaluation metric used with the objective 'binary:logistic' was changed from 'error' to 'logloss'. Explicitly set eval_metric if you'd like to restore the old behavior.\n",
      "XGB 5-fold 교차 검증 정확도: 90.35 (+/- 7.01)\n",
      "[01:35:53] WARNING: C:/Users/Administrator/workspace/xgboost-win64_release_1.5.1/src/learner.cc:1115: Starting in XGBoost 1.3.0, the default evaluation metric used with the objective 'binary:logistic' was changed from 'error' to 'logloss'. Explicitly set eval_metric if you'd like to restore the old behavior.\n"
     ]
    },
    {
     "name": "stderr",
     "output_type": "stream",
     "text": [
      "C:\\Users\\bhyu\\AppData\\Local\\Programs\\Python\\Python39\\lib\\site-packages\\xgboost\\sklearn.py:1224: UserWarning: The use of label encoder in XGBClassifier is deprecated and will be removed in a future release. To remove this warning, do the following: 1) Pass option use_label_encoder=False when constructing XGBClassifier object; and 2) Encode your labels (y) as integers starting with 0, i.e. 0, 1, 2, ..., [num_class - 1].\n",
      "  warnings.warn(label_encoder_deprecation_msg, UserWarning)\n"
     ]
    },
    {
     "name": "stdout",
     "output_type": "stream",
     "text": [
      "LGBM 5-fold 교차 검증 정확도: 90.57 (+/- 7.49)\n"
     ]
    }
   ],
   "source": [
    "# 모델 피팅 및 공간 예측(model fitting and spatial range prediction)\n",
    "for name, (model) in CLASS_MAP.items():\n",
    "    # 교차 검증(cross validation)\n",
    "    k = 5 # k-fold\n",
    "    kf = model_selection.KFold(n_splits=k)\n",
    "    accuracy_scores = model_selection.cross_val_score(model, train_xs, train_y, cv=kf, scoring='accuracy')\n",
    "    print(name + \" %d-fold 교차 검증 정확도: %0.2f (+/- %0.2f)\"\n",
    "          % (k, accuracy_scores.mean() * 100, accuracy_scores.std() * 200))\n",
    "    \n",
    "    # 공간 예측(spatial prediction)\n",
    "    model.fit(train_xs, train_y)\n",
    "    os.mkdir('OUTPUT/' + name + '-IMAGES')\n",
    "    impute(target_xs, model, raster_info, outdir='OUTPUT/' + name + '-IMAGES',\n",
    "           class_prob=True, certainty=True)"
   ]
  },
  {
   "cell_type": "code",
   "execution_count": 21,
   "id": "dried-spectrum",
   "metadata": {},
   "outputs": [],
   "source": [
    "distr_rf = rasterio.open(\"OUTPUT/RF-IMAGES/probability_1.0.tif\").read(1)\n",
    "distr_et = rasterio.open(\"OUTPUT/ET-IMAGES/probability_1.0.tif\").read(1)\n",
    "distr_xgb =  rasterio.open(\"OUTPUT/XGB-IMAGES/probability_1.0.tif\").read(1)\n",
    "distr_lgbm =  rasterio.open(\"OUTPUT/LGBM-IMAGES/probability_1.0.tif\").read(1)\n",
    "distr_averaged = (distr_rf + distr_et + distr_xgb + distr_lgbm)/4"
   ]
  },
  {
   "cell_type": "code",
   "execution_count": 22,
   "id": "tropical-county",
   "metadata": {},
   "outputs": [
    {
     "data": {
      "image/png": "[encoded data removed]",
      "text/plain": [
       "<Figure size 432x288 with 2 Axes>"
      ]
     },
     "metadata": {
      "needs_background": "light"
     },
     "output_type": "display_data"
    }
   ],
   "source": [
    "# 종 적합성 매핑의 평균값 가시화\n",
    "from pylab import plt\n",
    "\n",
    "def plotit(x, title, cmap=\"Blues\"):\n",
    "    plt.imshow(x, cmap=cmap, interpolation='nearest')\n",
    "    plt.colorbar()\n",
    "    plt.title(title, fontweight = 'bold')\n",
    "\n",
    "plotit(distr_averaged, \"Joshua Tree Range, averaged\", cmap=\"Greens\")"
   ]
  },
  {
   "cell_type": "code",
   "execution_count": 23,
   "id": "allied-focus",
   "metadata": {},
   "outputs": [
    {
     "data": {
      "image/png": "[encoded data removed]",
      "text/plain": [
       "<Figure size 432x288 with 2 Axes>"
      ]
     },
     "metadata": {
      "needs_background": "light"
     },
     "output_type": "display_data"
    }
   ],
   "source": [
    "# 조슈아 트리 국립공원의 종 적합성 가시화\n",
    "plotit(distr_averaged[100:150, 100:150], \"Joshua Tree National Park Suitability\", cmap=\"Greens\")"
   ]
  },
  {
   "cell_type": "code",
   "execution_count": null,
   "id": "rental-peter",
   "metadata": {},
   "outputs": [],
   "source": []
  }
 ],
 "metadata": {
  "kernelspec": {
   "display_name": "Python 3 (ipykernel)",
   "language": "python",
   "name": "python3"
  },
  "language_info": {
   "codemirror_mode": {
    "name": "ipython",
    "version": 3
   },
   "file_extension": ".py",
   "mimetype": "text/x-python",
   "name": "python",
   "nbconvert_exporter": "python",
   "pygments_lexer": "ipython3",
   "version": "3.9.7"
  }
 },
 "nbformat": 4,
 "nbformat_minor": 5
}
