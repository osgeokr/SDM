{
 "cells": [
  {
   "cell_type": "code",
   "execution_count": 1,
   "id": "60773d50",
   "metadata": {},
   "outputs": [
    {
     "data": {
      "text/plain": [
       "sklearn.utils.Bunch"
      ]
     },
     "execution_count": 1,
     "metadata": {},
     "output_type": "execute_result"
    }
   ],
   "source": [
    "from sklearn.datasets import fetch_species_distributions\n",
    "\n",
    "# 종 분포 데이터셋\n",
    "data = fetch_species_distributions()\n",
    "type(data) # sklearn.utils.Bunch"
   ]
  },
  {
   "cell_type": "code",
   "execution_count": 2,
   "id": "f35f180d",
   "metadata": {},
   "outputs": [
    {
     "name": "stdout",
     "output_type": "stream",
     "text": [
      "bunch.value_key: 1\n",
      "bunch[\"value_key\"]: 1\n"
     ]
    }
   ],
   "source": [
    "# sklearn.utils.Bunch\n",
    "from sklearn.utils import Bunch\n",
    "\n",
    "park = Bunch(bear=1, tree=2)\n",
    "print('bunch.value_key: %s' % park.bear) # bunch.value_key: 1\n",
    "print('bunch[\"value_key\"]: %s' % park['bear']) # bunch[\"value_key\"]: 1"
   ]
  },
  {
   "cell_type": "code",
   "execution_count": 3,
   "id": "be3474f4",
   "metadata": {},
   "outputs": [
    {
     "data": {
      "text/plain": [
       "dict_keys(['coverages', 'test', 'train', 'x_left_lower_corner', 'Nx', 'y_left_lower_corner', 'Ny', 'grid_size'])"
      ]
     },
     "execution_count": 3,
     "metadata": {},
     "output_type": "execute_result"
    }
   ],
   "source": [
    "data.keys() # 키"
   ]
  },
  {
   "cell_type": "code",
   "execution_count": 4,
   "id": "1770c2fa",
   "metadata": {},
   "outputs": [
    {
     "name": "stdout",
     "output_type": "stream",
     "text": [
      "coverages 유형: <class 'numpy.ndarray'>\n",
      "coverages 차원: 3\n",
      "coverages 깊이, 행, 열: (14, 1592, 1212)\n"
     ]
    }
   ],
   "source": [
    "# coverages\n",
    "print('coverages 유형: %s' % type(data.coverages)) # coverages 유형: <class 'numpy.ndarray'>\n",
    "print('coverages 차원: %d' % data.coverages.ndim) # coverages 차원: 3\n",
    "print('coverages 깊이, 행, 열: ' + str(data.coverages.shape)) # coverages 깊이, 행, 열: (14, 1592, 1212)"
   ]
  },
  {
   "cell_type": "code",
   "execution_count": 5,
   "id": "d833ea0f",
   "metadata": {},
   "outputs": [
    {
     "data": {
      "image/png": "[encoded data removed]",
      "text/plain": [
       "<Figure size 432x288 with 1 Axes>"
      ]
     },
     "metadata": {
      "needs_background": "light"
     },
     "output_type": "display_data"
    }
   ],
   "source": [
    "import matplotlib.pyplot as plt\n",
    "\n",
    "plt.imshow(data.coverages[6])\n",
    "plt.show()"
   ]
  },
  {
   "cell_type": "code",
   "execution_count": 6,
   "id": "a1d2898b",
   "metadata": {},
   "outputs": [
    {
     "name": "stdout",
     "output_type": "stream",
     "text": [
      "훈련 데이터 행, 열: (1624, 3)\n"
     ]
    },
    {
     "data": {
      "text/html": [
       "<div>\n",
       "<style scoped>\n",
       "    .dataframe tbody tr th:only-of-type {\n",
       "        vertical-align: middle;\n",
       "    }\n",
       "\n",
       "    .dataframe tbody tr th {\n",
       "        vertical-align: top;\n",
       "    }\n",
       "\n",
       "    .dataframe thead th {\n",
       "        text-align: right;\n",
       "    }\n",
       "</style>\n",
       "<table border=\"1\" class=\"dataframe\">\n",
       "  <thead>\n",
       "    <tr style=\"text-align: right;\">\n",
       "      <th></th>\n",
       "      <th>species</th>\n",
       "      <th>dd long</th>\n",
       "      <th>dd lat</th>\n",
       "    </tr>\n",
       "  </thead>\n",
       "  <tbody>\n",
       "    <tr>\n",
       "      <th>0</th>\n",
       "      <td>b'microryzomys_minutus'</td>\n",
       "      <td>-64.699997</td>\n",
       "      <td>-17.850000</td>\n",
       "    </tr>\n",
       "    <tr>\n",
       "      <th>1</th>\n",
       "      <td>b'microryzomys_minutus'</td>\n",
       "      <td>-67.833298</td>\n",
       "      <td>-16.333300</td>\n",
       "    </tr>\n",
       "    <tr>\n",
       "      <th>2</th>\n",
       "      <td>b'microryzomys_minutus'</td>\n",
       "      <td>-67.883301</td>\n",
       "      <td>-16.299999</td>\n",
       "    </tr>\n",
       "    <tr>\n",
       "      <th>3</th>\n",
       "      <td>b'microryzomys_minutus'</td>\n",
       "      <td>-67.800003</td>\n",
       "      <td>-16.266701</td>\n",
       "    </tr>\n",
       "    <tr>\n",
       "      <th>4</th>\n",
       "      <td>b'microryzomys_minutus'</td>\n",
       "      <td>-67.983299</td>\n",
       "      <td>-15.900000</td>\n",
       "    </tr>\n",
       "  </tbody>\n",
       "</table>\n",
       "</div>"
      ],
      "text/plain": [
       "                   species    dd long     dd lat\n",
       "0  b'microryzomys_minutus' -64.699997 -17.850000\n",
       "1  b'microryzomys_minutus' -67.833298 -16.333300\n",
       "2  b'microryzomys_minutus' -67.883301 -16.299999\n",
       "3  b'microryzomys_minutus' -67.800003 -16.266701\n",
       "4  b'microryzomys_minutus' -67.983299 -15.900000"
      ]
     },
     "execution_count": 6,
     "metadata": {},
     "output_type": "execute_result"
    }
   ],
   "source": [
    "import pandas as pd\n",
    "\n",
    "# train(훈련 데이터): (1624, 3)\n",
    "print('훈련 데이터 행, 열: ' + str(pd.DataFrame(data.train).shape))\n",
    "pd.DataFrame(data.train).head()"
   ]
  },
  {
   "cell_type": "code",
   "execution_count": 7,
   "id": "5443be5d",
   "metadata": {},
   "outputs": [
    {
     "name": "stdout",
     "output_type": "stream",
     "text": [
      "시험 데이터 행, 열: (620, 3)\n"
     ]
    },
    {
     "data": {
      "text/html": [
       "<div>\n",
       "<style scoped>\n",
       "    .dataframe tbody tr th:only-of-type {\n",
       "        vertical-align: middle;\n",
       "    }\n",
       "\n",
       "    .dataframe tbody tr th {\n",
       "        vertical-align: top;\n",
       "    }\n",
       "\n",
       "    .dataframe thead th {\n",
       "        text-align: right;\n",
       "    }\n",
       "</style>\n",
       "<table border=\"1\" class=\"dataframe\">\n",
       "  <thead>\n",
       "    <tr style=\"text-align: right;\">\n",
       "      <th></th>\n",
       "      <th>species</th>\n",
       "      <th>dd long</th>\n",
       "      <th>dd lat</th>\n",
       "    </tr>\n",
       "  </thead>\n",
       "  <tbody>\n",
       "    <tr>\n",
       "      <th>0</th>\n",
       "      <td>b'bradypus_variegatus_0'</td>\n",
       "      <td>-65.383301</td>\n",
       "      <td>-10.383300</td>\n",
       "    </tr>\n",
       "    <tr>\n",
       "      <th>1</th>\n",
       "      <td>b'bradypus_variegatus_0'</td>\n",
       "      <td>-63.666698</td>\n",
       "      <td>-17.450001</td>\n",
       "    </tr>\n",
       "    <tr>\n",
       "      <th>2</th>\n",
       "      <td>b'bradypus_variegatus_0'</td>\n",
       "      <td>-64.416702</td>\n",
       "      <td>-16.000000</td>\n",
       "    </tr>\n",
       "    <tr>\n",
       "      <th>3</th>\n",
       "      <td>b'bradypus_variegatus_0'</td>\n",
       "      <td>-52.666698</td>\n",
       "      <td>-3.833300</td>\n",
       "    </tr>\n",
       "    <tr>\n",
       "      <th>4</th>\n",
       "      <td>b'bradypus_variegatus_0'</td>\n",
       "      <td>-55.549999</td>\n",
       "      <td>-1.916700</td>\n",
       "    </tr>\n",
       "  </tbody>\n",
       "</table>\n",
       "</div>"
      ],
      "text/plain": [
       "                    species    dd long     dd lat\n",
       "0  b'bradypus_variegatus_0' -65.383301 -10.383300\n",
       "1  b'bradypus_variegatus_0' -63.666698 -17.450001\n",
       "2  b'bradypus_variegatus_0' -64.416702 -16.000000\n",
       "3  b'bradypus_variegatus_0' -52.666698  -3.833300\n",
       "4  b'bradypus_variegatus_0' -55.549999  -1.916700"
      ]
     },
     "execution_count": 7,
     "metadata": {},
     "output_type": "execute_result"
    }
   ],
   "source": [
    "# test(시험 데이터): (620, 3)\n",
    "print('시험 데이터 행, 열: ' + str(pd.DataFrame(data.test).shape))\n",
    "pd.DataFrame(data.test).head()"
   ]
  },
  {
   "cell_type": "code",
   "execution_count": 8,
   "id": "e6544685",
   "metadata": {},
   "outputs": [
    {
     "name": "stdout",
     "output_type": "stream",
     "text": [
      "x_left_lower_corner, 경도: -94.800000\n",
      "y_left_lower_corner, 위도: -56.050000\n"
     ]
    }
   ],
   "source": [
    "# data.x_left_lower_corner (float); data.y_left_lower_corner (float)\n",
    "print('x_left_lower_corner, 경도: %f' % data.x_left_lower_corner) # x_left_lower_corner, 경도: -94.800000\n",
    "print('y_left_lower_corner, 위도: %f' % data.y_left_lower_corner) # y_left_lower_corner, 위도: -56.050000"
   ]
  },
  {
   "cell_type": "code",
   "execution_count": 9,
   "id": "a5e5a97a",
   "metadata": {},
   "outputs": [
    {
     "name": "stdout",
     "output_type": "stream",
     "text": [
      "Nx, 경도 수: 1212, Ny, 위도 수: 1592\n"
     ]
    }
   ],
   "source": [
    "# data.Nx (int), data.Ny (int)\n",
    "print('Nx, 경도 수: %d, Ny, 위도 수: %d' % (data.Nx, data.Ny)) # Nx, 경도 수: 1212, Ny, 위도 수: 1592"
   ]
  },
  {
   "cell_type": "code",
   "execution_count": 10,
   "id": "f543a5bd",
   "metadata": {},
   "outputs": [
    {
     "name": "stdout",
     "output_type": "stream",
     "text": [
      "grid_size: 0.050000\n"
     ]
    }
   ],
   "source": [
    "# data.grid_size (float)\n",
    "# 그리드 좌표 사이의 간격(도)\n",
    "print('grid_size: %f' % data.grid_size) # grid_size: 0.050000"
   ]
  },
  {
   "cell_type": "code",
   "execution_count": null,
   "id": "41f5e620",
   "metadata": {},
   "outputs": [],
   "source": []
  }
 ],
 "metadata": {
  "kernelspec": {
   "display_name": "Python 3 (ipykernel)",
   "language": "python",
   "name": "python3"
  },
  "language_info": {
   "codemirror_mode": {
    "name": "ipython",
    "version": 3
   },
   "file_extension": ".py",
   "mimetype": "text/x-python",
   "name": "python",
   "nbconvert_exporter": "python",
   "pygments_lexer": "ipython3",
   "version": "3.9.7"
  }
 },
 "nbformat": 4,
 "nbformat_minor": 5
}
